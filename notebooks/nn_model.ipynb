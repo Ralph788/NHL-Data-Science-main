{
 "cells": [
  {
   "cell_type": "code",
   "execution_count": 117,
   "metadata": {},
   "outputs": [],
   "source": [
    "import torch \n",
    "from torch import nn, optim\n",
    "import pandas as pd\n",
    "import numpy as np\n",
    "import os\n",
    "\n",
    "from sklearn.preprocessing import StandardScaler"
   ]
  },
  {
   "cell_type": "code",
   "execution_count": 122,
   "metadata": {},
   "outputs": [],
   "source": [
    "# Training features\n",
    "X_train = pd.read_csv('../data/datasets/csv_files/Train_features.csv')\n",
    "# Testing features\n",
    "X_test = pd.read_csv('../data/datasets/csv_files/Test_features.csv')"
   ]
  },
  {
   "cell_type": "code",
   "execution_count": 121,
   "metadata": {},
   "outputs": [],
   "source": [
    "# Training labels\n",
    "y_train = pd.read_csv('../data/datasets/csv_files/Train_labels.csv')\n",
    "# Testing labels\n",
    "y_test = pd.read_csv('../data/datasets/csv_files/Test_labels.csv')"
   ]
  },
  {
   "cell_type": "markdown",
   "metadata": {},
   "source": [
    "$$ \\textbf{Préparation des données :} $$"
   ]
  },
  {
   "cell_type": "markdown",
   "metadata": {},
   "source": [
    "$$ \\text{Traitement des données d'entrainement} $$ "
   ]
  },
  {
   "cell_type": "code",
   "execution_count": 120,
   "metadata": {},
   "outputs": [],
   "source": [
    "import src.features.feature_selection as fsel"
   ]
  },
  {
   "cell_type": "code",
   "execution_count": 124,
   "metadata": {},
   "outputs": [],
   "source": [
    "std = StandardScaler()"
   ]
  },
  {
   "cell_type": "code",
   "execution_count": 125,
   "metadata": {},
   "outputs": [],
   "source": [
    "# Standardisation des ensembles d'entrainement et de test\n",
    "training_feature_values = std.fit_transform(X_train)\n",
    "testing_feature_values = std.fit_transform(X_test)"
   ]
  },
  {
   "cell_type": "code",
   "execution_count": 128,
   "metadata": {},
   "outputs": [],
   "source": [
    "# Conversion des données d'entrainement en tensor \n",
    "X_train = torch.FloatTensor(training_feature_values)\n",
    "y_train = torch.FloatTensor(y_train)"
   ]
  },
  {
   "cell_type": "markdown",
   "metadata": {},
   "source": [
    "$$ \\text{Traitement des données de test} $$ "
   ]
  },
  {
   "cell_type": "code",
   "execution_count": 129,
   "metadata": {},
   "outputs": [],
   "source": [
    "# Conversion des données de test en tensor\n",
    "X_test = torch.FloatTensor(testing_feature_values)\n",
    "y_test = torch.FloatTensor(y_test.values)"
   ]
  },
  {
   "cell_type": "markdown",
   "metadata": {},
   "source": [
    "$$\\text{Définition de notre réseau de neurones} $$"
   ]
  },
  {
   "cell_type": "code",
   "execution_count": 130,
   "metadata": {},
   "outputs": [],
   "source": [
    "input_dim = 10\n",
    "hidden_dim_1 = 20\n",
    "hidden_dim_2 = 20\n",
    "hidden_dim_3 = 20\n",
    "output_dim = 1\n",
    "\n",
    "class NeuralNetwork(nn.Module):\n",
    "    def __init__(self, input_dim, hidden_dim_1, hidden_dim_2, hidden_dim_3, output_dim):\n",
    "        super(NeuralNetwork, self).__init__()\n",
    "        self.layer_1 = nn.Linear(input_dim, hidden_dim_1)\n",
    "        self.layer_2 = nn.Linear(hidden_dim_1, hidden_dim_2)\n",
    "        self.layer_3 = nn.Linear(hidden_dim_2, hidden_dim_3)\n",
    "        self.layer_4 = nn.Linear(hidden_dim_3, output_dim)\n",
    "       \n",
    "    def forward(self, x):\n",
    "        # Choix de la sigmoide car elle est plus utilisée dans les problèmes de classification\n",
    "        x = torch.nn.functional.relu(self.layer_1(x))\n",
    "        x = torch.nn.functional.relu(self.layer_2(x))\n",
    "        x = torch.nn.functional.relu(self.layer_3(x))\n",
    "        x = torch.nn.functional.sigmoid(self.layer_4(x))\n",
    "        return x"
   ]
  },
  {
   "cell_type": "code",
   "execution_count": 131,
   "metadata": {},
   "outputs": [],
   "source": [
    "# Déclaration du modèle\n",
    "model = NeuralNetwork(input_dim, hidden_dim_1, hidden_dim_2, hidden_dim_3, output_dim)"
   ]
  },
  {
   "cell_type": "code",
   "execution_count": 132,
   "metadata": {},
   "outputs": [
    {
     "data": {
      "text/plain": [
       "<bound method Module.parameters of NeuralNetwork(\n",
       "  (layer_1): Linear(in_features=10, out_features=20, bias=True)\n",
       "  (layer_2): Linear(in_features=20, out_features=20, bias=True)\n",
       "  (layer_3): Linear(in_features=20, out_features=20, bias=True)\n",
       "  (layer_4): Linear(in_features=20, out_features=1, bias=True)\n",
       ")>"
      ]
     },
     "execution_count": 132,
     "metadata": {},
     "output_type": "execute_result"
    }
   ],
   "source": [
    "model.parameters"
   ]
  },
  {
   "cell_type": "code",
   "execution_count": 133,
   "metadata": {},
   "outputs": [],
   "source": [
    "# Set the criterion of the model to measure error\n",
    "criterion = nn.BCELoss()\n",
    "# Choose our Optimizer\n",
    "optimizer = torch.optim.Adam(model.parameters(), lr = 0.1)"
   ]
  },
  {
   "cell_type": "code",
   "execution_count": 134,
   "metadata": {},
   "outputs": [
    {
     "name": "stdout",
     "output_type": "stream",
     "text": [
      "Epoch : 0 and loss :0.7378884553909302\n",
      "Epoch : 10 and loss :0.30384713411331177\n",
      "Epoch : 20 and loss :0.2751396596431732\n",
      "Epoch : 30 and loss :0.27465492486953735\n",
      "Epoch : 40 and loss :0.2725161015987396\n",
      "Epoch : 50 and loss :0.27093636989593506\n",
      "Epoch : 60 and loss :0.27018773555755615\n",
      "Epoch : 70 and loss :0.269695907831192\n",
      "Epoch : 80 and loss :0.26933762431144714\n",
      "Epoch : 90 and loss :0.26893237233161926\n",
      "Training Complete\n"
     ]
    }
   ],
   "source": [
    "num_epochs = 100\n",
    "loss_values = []\n",
    "\n",
    "\n",
    "for epoch in range(num_epochs):\n",
    "    model.train()\n",
    "    y_pred = model.forward(X_train)\n",
    "    loss = criterion(y_pred, y_train)\n",
    "    loss_values.append(loss.detach().numpy())\n",
    "\n",
    "    if epoch%10 == 0 :\n",
    "        print(f'Epoch : {epoch} and loss :{loss}')\n",
    "\n",
    "    # Back propagation\n",
    "    optimizer.zero_grad()\n",
    "    loss.backward()\n",
    "    optimizer.step()\n",
    "    \n",
    "print(\"Training Complete\")\n"
   ]
  },
  {
   "cell_type": "code",
   "execution_count": 135,
   "metadata": {},
   "outputs": [],
   "source": [
    "model.eval()\n",
    "\n",
    "with torch.no_grad():\n",
    "    predictions = model(X_test)\n",
    "\n",
    "y_pred = (predictions > 0.5).float()"
   ]
  },
  {
   "cell_type": "code",
   "execution_count": 136,
   "metadata": {},
   "outputs": [],
   "source": [
    "from sklearn.metrics import accuracy_score, recall_score, roc_auc_score, f1_score, confusion_matrix"
   ]
  },
  {
   "cell_type": "code",
   "execution_count": 137,
   "metadata": {},
   "outputs": [
    {
     "data": {
      "text/plain": [
       "array([[48547,     0],\n",
       "       [ 4879,     0]], dtype=int64)"
      ]
     },
     "execution_count": 137,
     "metadata": {},
     "output_type": "execute_result"
    }
   ],
   "source": [
    "accuracy_score(y_test, y_pred)\n",
    "confusion_matrix(y_test, y_pred)"
   ]
  },
  {
   "cell_type": "code",
   "execution_count": 138,
   "metadata": {},
   "outputs": [],
   "source": [
    "from sklearn.metrics import roc_auc_score, f1_score, recall_score, accuracy_score"
   ]
  },
  {
   "cell_type": "code",
   "execution_count": 139,
   "metadata": {},
   "outputs": [
    {
     "name": "stdout",
     "output_type": "stream",
     "text": [
      "Roc_Auc :  0.5\n",
      "Accuracy:  0.9086774229775765\n",
      "Recall_score :  0.0\n",
      "F1_score : 0.0\n"
     ]
    }
   ],
   "source": [
    "print(\"Roc_Auc : \",roc_auc_score(y_test, y_pred))\n",
    "print(\"Accuracy: \", accuracy_score(y_test,y_pred))\n",
    "print(\"Recall_score : \",recall_score(y_test, y_pred))\n",
    "print(\"F1_score :\", f1_score(y_test, y_pred))"
   ]
  }
 ],
 "metadata": {
  "kernelspec": {
   "display_name": "project-env",
   "language": "python",
   "name": "python3"
  },
  "language_info": {
   "codemirror_mode": {
    "name": "ipython",
    "version": 3
   },
   "file_extension": ".py",
   "mimetype": "text/x-python",
   "name": "python",
   "nbconvert_exporter": "python",
   "pygments_lexer": "ipython3",
   "version": "3.11.5"
  }
 },
 "nbformat": 4,
 "nbformat_minor": 2
}
